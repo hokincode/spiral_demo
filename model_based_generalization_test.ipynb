{
 "cells": [
  {
   "cell_type": "markdown",
   "source": [
    "## Game Initialization"
   ],
   "metadata": {
    "collapsed": false
   }
  },
  {
   "cell_type": "code",
   "execution_count": 21,
   "outputs": [],
   "source": [
    "import matplotlib.pyplot as plt\n",
    "import numpy as np\n",
    "import random"
   ],
   "metadata": {
    "collapsed": false
   }
  },
  {
   "cell_type": "code",
   "execution_count": 22,
   "outputs": [],
   "source": [
    "class MazeGame:\n",
    "    def __init__(self):\n",
    "        maze_layout = [[1, 1, 1, 1, 1, 1, 1],\n",
    "               [1, 0, 0, 0, 0, 0, 1],\n",
    "               [1, 0, 1, 1, 1, 0, 1],\n",
    "               [1, 0, 1, 0, 0, 0, 1],\n",
    "               [1, 0, 1, 1, 1, 1, 1],\n",
    "               [1, 0, 0, 0, 0, 0, 0],\n",
    "               [1, 1, 1, 1, 1, 1, 1]]\n",
    "        \"\"\"Initialize the maze game with a given layout.\"\"\"\n",
    "        self.layout = np.array(maze_layout)\n",
    "        self.rgb_maze = self._to_rgb()\n",
    "        self.start_pos = None\n",
    "        self.exit_pos = None\n",
    "        self.current_pos = None\n",
    "\n",
    "    def _to_rgb(self):\n",
    "        \"\"\"Convert the maze layout to an RGB image.\"\"\"\n",
    "        rgb = np.zeros((*self.layout.shape, 3))  # Create a new RGB array\n",
    "        for i in range(3):  # Copy the grayscale values into each RGB channel\n",
    "            rgb[:, :, i] = 1 - self.layout\n",
    "        return rgb\n",
    "\n",
    "    def initialPosition(self, row, col):\n",
    "        \"\"\"Set the initial position in the maze.\"\"\"\n",
    "        if self.layout[row, col] == 0:\n",
    "            self.start_pos = (row, col)\n",
    "            self.current_pos = (row, col)\n",
    "            self.set_point(row, col, [0, 0, 1])  # Mark initial position with blue\n",
    "        else:\n",
    "            print(\"Invalid initial position: It is on a wall.\")\n",
    "\n",
    "    def setExit(self, row, col):\n",
    "        \"\"\"Set the exit position in the maze.\"\"\"\n",
    "        if self.layout[row, col] == 0:\n",
    "            self.exit_pos = (row, col)\n",
    "            self.set_point(row, col, [0, 1, 0])  # Mark exit position with green\n",
    "        else:\n",
    "            print(\"Invalid exit position: It is on a wall.\")\n",
    "\n",
    "    def set_point(self, row, col, color):\n",
    "        \"\"\"Set a specific point in the maze to a given color.\"\"\"\n",
    "        self.rgb_maze[row, col] = color\n",
    "\n",
    "    def makeMove(self, direction):\n",
    "        \"\"\"Attempt to move in the specified direction.\"\"\"\n",
    "        if self.current_pos is None:\n",
    "            print(\"Initial position not set.\")\n",
    "            return 0\n",
    "\n",
    "        row, col = self.current_pos\n",
    "        if direction == \"up\":\n",
    "            new_pos = (row - 1, col)\n",
    "        elif direction == \"down\":\n",
    "            new_pos = (row + 1, col)\n",
    "        elif direction == \"left\":\n",
    "            new_pos = (row, col - 1)\n",
    "        elif direction == \"right\":\n",
    "            new_pos = (row, col + 1)\n",
    "        else:\n",
    "            print(\"Invalid direction.\")\n",
    "            return 0\n",
    "\n",
    "        if self.isValidMove(new_pos):\n",
    "            self.current_pos = new_pos\n",
    "            self.set_point(*self.start_pos, [1 - self.layout[self.start_pos]])  # Reset start position color\n",
    "            self.start_pos = new_pos\n",
    "            self.set_point(*new_pos, [0, 0, 1])  # Mark new position with blue\n",
    "            if self.current_pos == self.exit_pos:\n",
    "                # print(\"Success! You've found the way out.\")\n",
    "                return 1\n",
    "        # else:\n",
    "        #    print(\"Invalid move: Can't move through walls or out of bounds.\")\n",
    "\n",
    "    def isValidMove(self, pos):\n",
    "        \"\"\"Check if a move is valid (within bounds and not through walls).\"\"\"\n",
    "        row, col = pos\n",
    "        if 0 <= row < self.layout.shape[0] and 0 <= col < self.layout.shape[1]:\n",
    "            return self.layout[row, col] == 0\n",
    "        return False\n",
    "\n",
    "    def plot(self):\n",
    "        \"\"\"Plot the maze.\"\"\"\n",
    "        plt.figure(figsize=(7, 7))\n",
    "        plt.imshow(self.rgb_maze, interpolation='nearest')\n",
    "        plt.xticks([]), plt.yticks([])  # Hide axes ticks\n",
    "        plt.show()"
   ],
   "metadata": {
    "collapsed": false
   }
  },
  {
   "cell_type": "code",
   "execution_count": 23,
   "outputs": [
    {
     "data": {
      "text/plain": "<Figure size 700x700 with 1 Axes>",
      "image/png": "[encoded data removed]"
     },
     "metadata": {},
     "output_type": "display_data"
    }
   ],
   "source": [
    "# Create an instance of MazeGame\n",
    "maze_game = MazeGame()\n",
    "\n",
    "# Set the initial and exit positions\n",
    "maze_game.initialPosition(3, 3)\n",
    "maze_game.setExit(5, 6)\n",
    "maze_game.plot()"
   ],
   "metadata": {
    "collapsed": false
   }
  },
  {
   "cell_type": "markdown",
   "source": [
    "## Reversed Maze Game"
   ],
   "metadata": {
    "collapsed": false
   }
  },
  {
   "cell_type": "code",
   "execution_count": 24,
   "outputs": [],
   "source": [
    "class reversed_MazeGame:\n",
    "    def __init__(self):\n",
    "        maze_layout = [ [1, 1, 1, 1, 1, 1, 1],\n",
    "                        [0, 0, 0, 0, 0, 0, 1],\n",
    "                        [1, 1, 1, 1, 1, 0, 1],\n",
    "                        [1, 0, 0, 0, 1, 0, 1],\n",
    "                        [1, 0, 1, 1, 1, 0, 1],\n",
    "                        [1, 0, 0, 0, 0, 0, 1],\n",
    "                        [1, 1, 1, 1, 1, 1, 1]]\n",
    "        \"\"\"Initialize the maze game with a given layout.\"\"\"\n",
    "        self.layout = np.array(maze_layout)\n",
    "        self.rgb_maze = self._to_rgb()\n",
    "        self.start_pos = None\n",
    "        self.exit_pos = None\n",
    "        self.current_pos = None\n",
    "\n",
    "    def _to_rgb(self):\n",
    "        \"\"\"Convert the maze layout to an RGB image.\"\"\"\n",
    "        rgb = np.zeros((*self.layout.shape, 3))  # Create a new RGB array\n",
    "        for i in range(3):  # Copy the grayscale values into each RGB channel\n",
    "            rgb[:, :, i] = 1 - self.layout\n",
    "        return rgb\n",
    "\n",
    "    def initialPosition(self, row, col):\n",
    "        \"\"\"Set the initial position in the maze.\"\"\"\n",
    "        if self.layout[row, col] == 0:\n",
    "            self.start_pos = (row, col)\n",
    "            self.current_pos = (row, col)\n",
    "            self.set_point(row, col, [0, 0, 1])  # Mark initial position with blue\n",
    "        else:\n",
    "            print(\"Invalid initial position: It is on a wall.\")\n",
    "\n",
    "    def setExit(self, row, col):\n",
    "        \"\"\"Set the exit position in the maze.\"\"\"\n",
    "        if self.layout[row, col] == 0:\n",
    "            self.exit_pos = (row, col)\n",
    "            self.set_point(row, col, [0, 1, 0])  # Mark exit position with green\n",
    "        else:\n",
    "            print(\"Invalid exit position: It is on a wall.\")\n",
    "\n",
    "    def set_point(self, row, col, color):\n",
    "        \"\"\"Set a specific point in the maze to a given color.\"\"\"\n",
    "        self.rgb_maze[row, col] = color\n",
    "\n",
    "    def makeMove(self, direction):\n",
    "        \"\"\"Attempt to move in the specified direction.\"\"\"\n",
    "        if self.current_pos is None:\n",
    "            print(\"Initial position not set.\")\n",
    "            return 0\n",
    "\n",
    "        row, col = self.current_pos\n",
    "        if direction == \"up\":\n",
    "            new_pos = (row - 1, col)\n",
    "        elif direction == \"down\":\n",
    "            new_pos = (row + 1, col)\n",
    "        elif direction == \"left\":\n",
    "            new_pos = (row, col - 1)\n",
    "        elif direction == \"right\":\n",
    "            new_pos = (row, col + 1)\n",
    "        else:\n",
    "            print(\"Invalid direction.\")\n",
    "            return 0\n",
    "\n",
    "        if self.isValidMove(new_pos):\n",
    "            self.current_pos = new_pos\n",
    "            self.set_point(*self.start_pos, [1 - self.layout[self.start_pos]])  # Reset start position color\n",
    "            self.start_pos = new_pos\n",
    "            self.set_point(*new_pos, [0, 0, 1])  # Mark new position with blue\n",
    "            if self.current_pos == self.exit_pos:\n",
    "                # print(\"Success! You've found the way out.\")\n",
    "                return 1\n",
    "        # else:\n",
    "        #    print(\"Invalid move: Can't move through walls or out of bounds.\")\n",
    "\n",
    "    def isValidMove(self, pos):\n",
    "        \"\"\"Check if a move is valid (within bounds and not through walls).\"\"\"\n",
    "        row, col = pos\n",
    "        if 0 <= row < self.layout.shape[0] and 0 <= col < self.layout.shape[1]:\n",
    "            return self.layout[row, col] == 0\n",
    "        return False\n",
    "\n",
    "    def plot(self):\n",
    "        \"\"\"Plot the maze.\"\"\"\n",
    "        plt.figure(figsize=(7, 7))\n",
    "        plt.imshow(self.rgb_maze, interpolation='nearest')\n",
    "        plt.xticks([]), plt.yticks([])  # Hide axes ticks\n",
    "        plt.show()"
   ],
   "metadata": {
    "collapsed": false
   }
  },
  {
   "cell_type": "code",
   "execution_count": 25,
   "outputs": [
    {
     "data": {
      "text/plain": "<Figure size 700x700 with 1 Axes>",
      "image/png": "[encoded data removed]"
     },
     "metadata": {},
     "output_type": "display_data"
    }
   ],
   "source": [
    "# Create an instance of MazeGame\n",
    "reversed_maze = reversed_MazeGame()\n",
    "\n",
    "# Set the initial and exit positions\n",
    "reversed_maze.initialPosition(3, 3)\n",
    "reversed_maze.setExit(1, 0)\n",
    "reversed_maze.plot()"
   ],
   "metadata": {
    "collapsed": false
   }
  },
  {
   "cell_type": "markdown",
   "source": [
    "## Model-based Agent"
   ],
   "metadata": {
    "collapsed": false
   }
  },
  {
   "cell_type": "code",
   "execution_count": 26,
   "outputs": [],
   "source": [
    "# This is the helper function for determining if there is a wall.\n",
    "# For example, if the probability is given as 0.9, this means that\n",
    "# there is 90% that there is a wall.\n",
    "# With this helper function, we have .9 likelihood, to return 1\n",
    "# which indicate there is a wall.\n",
    "\n",
    "def choose_with_probability(s):\n",
    "    return 1 if random.random() < s else 0"
   ],
   "metadata": {
    "collapsed": false
   }
  },
  {
   "cell_type": "code",
   "execution_count": 27,
   "outputs": [],
   "source": [
    "class experiment_ModelBasedAgent:\n",
    "    def __init__(self, game, gamma=0.99):\n",
    "        self.game = game\n",
    "        self.gamma = gamma  # Discount factor\n",
    "        self.internal_model = np.zeros(game.layout.shape)\n",
    "        self.values = np.zeros(game.layout.shape)\n",
    "        self.epsilon = 0.8\n",
    "        self.policy = np.full(game.layout.shape, 'up', dtype=object)\n",
    "        self.actions = ['up', 'down', 'left', 'right']\n",
    "\n",
    "    # Bellman optimization to find the optimal action trajectory.\n",
    "    def value_iteration_of_bellman_update(self, iterations=20):\n",
    "        self.policy = np.full(self.game.layout.shape, 'up', dtype=object)\n",
    "        self.values = np.zeros(self.game.layout.shape)\n",
    "        for _ in range(iterations):\n",
    "            new_values = np.copy(self.values)\n",
    "            for row in range(self.internal_model.shape[0]):\n",
    "                for col in range(self.internal_model.shape[1]):\n",
    "                    state_value = []\n",
    "                    for action in self.actions:\n",
    "                        new_pos = self.predict_move((row, col), action)\n",
    "                        reward = self.predict_reward(new_pos)\n",
    "                        state_value.append(reward + self.gamma * self.values[new_pos])\n",
    "                    best_action_value = max(state_value)\n",
    "                    new_values[row, col] = best_action_value\n",
    "                    self.policy[row, col] = self.actions[state_value.index(best_action_value)]\n",
    "            self.values = new_values\n",
    "\n",
    "    def move_outcome_if_there_is_no_wall(self, pos, action):\n",
    "        new_pos = pos\n",
    "        if action == \"up\":\n",
    "            new_pos = (max(0, pos[0]-1), pos[1])\n",
    "        elif action == \"down\":\n",
    "            new_pos = (min(self.game.layout.shape[0]-1, pos[0]+1), pos[1])\n",
    "        elif action == \"left\":\n",
    "            new_pos = (pos[0], max(0, pos[1]-1))\n",
    "        elif action == \"right\":\n",
    "            new_pos = (pos[0], min(self.game.layout.shape[1]-1, pos[1]+1))\n",
    "        return new_pos\n",
    "\n",
    "    def predict_move(self, pos, action):\n",
    "        new_pos = pos\n",
    "        if action == \"up\":\n",
    "            new_pos = (max(0, pos[0]-1), pos[1])\n",
    "        elif action == \"down\":\n",
    "            new_pos = (min(self.game.layout.shape[0]-1, pos[0]+1), pos[1])\n",
    "        elif action == \"left\":\n",
    "            new_pos = (pos[0], max(0, pos[1]-1))\n",
    "        elif action == \"right\":\n",
    "            new_pos = (pos[0], min(self.game.layout.shape[1]-1, pos[1]+1))\n",
    "\n",
    "        # return current position if there is a wall; which is indicated with 1\n",
    "        return pos if choose_with_probability(self.internal_model[new_pos]) else new_pos\n",
    "\n",
    "    def predict_reward(self, new_pos):\n",
    "        if new_pos == self.game.exit_pos:\n",
    "            return .1  # reward for reaching the exit\n",
    "        else:\n",
    "            return 0 # no penalty for each move to encourage shortest path\n",
    "\n",
    "    def latent_learning_of_internal_model(self):\n",
    "        current_pos = self.game.current_pos\n",
    "        steps = 0\n",
    "        while current_pos != self.game.exit_pos:\n",
    "            old_position= self.game.current_pos\n",
    "\n",
    "            # explore versus exploit\n",
    "            if random.uniform(0, 1) < self.epsilon:\n",
    "                action = random.choice(self.actions)  # Explore\n",
    "            else:\n",
    "                action = self.policy[current_pos]\n",
    "\n",
    "            self.game.makeMove(action)\n",
    "            current_pos = self.game.current_pos\n",
    "\n",
    "            if old_position == current_pos:\n",
    "                there_is_a_wall_at = self.move_outcome_if_there_is_no_wall(current_pos, action)\n",
    "                # update internal model\n",
    "                self.internal_model[there_is_a_wall_at] = self.internal_model[there_is_a_wall_at] + 0.01\n",
    "            steps += 1\n",
    "            if steps > 30:  # each train wandering has 5 steps\n",
    "                break\n",
    "\n",
    "    def train(self, episodes=1000):\n",
    "        for episode in range(episodes):\n",
    "            self.game.initialPosition(3, 3)  # Reset to starting position\n",
    "            self.latent_learning_of_internal_model()\n",
    "            self.value_iteration_of_bellman_update()\n",
    "\n",
    "    def run_policy(self):\n",
    "        current_pos = self.game.current_pos\n",
    "        steps = 0\n",
    "        success_or_not = 1\n",
    "        while current_pos != self.game.exit_pos:\n",
    "            action = self.policy[current_pos]\n",
    "            # print(f\"Step {steps}: at {current_pos} taking action {action}\")\n",
    "            self.game.makeMove(action)\n",
    "            current_pos = self.game.current_pos\n",
    "            steps += 1\n",
    "            if steps > 50:  # Just in case something goes wrong\n",
    "                # print(\"Stopping after 50 steps.\")\n",
    "                success_or_not = 0\n",
    "                break\n",
    "        return success_or_not\n",
    "\n",
    "    def update_game(self, new_game):\n",
    "        self.game = new_game"
   ],
   "metadata": {
    "collapsed": false
   }
  },
  {
   "cell_type": "code",
   "execution_count": 28,
   "outputs": [],
   "source": [
    "def experiment(maze, reversed, log_scale=3, num_agents=10):\n",
    "    train_episode = 10**log_scale\n",
    "    print('Training Trials for each agent:', train_episode)\n",
    "    success_agents_original = 0\n",
    "    success_agents_reversed = 0\n",
    "    for _ in range(num_agents):\n",
    "        agent = experiment_ModelBasedAgent(maze)\n",
    "        agent.train(train_episode)\n",
    "        successes_original = agent.run_policy()\n",
    "        agent.update_game(reversed)\n",
    "        successes_reversed = agent.run_policy()\n",
    "        if successes_original:\n",
    "            success_agents_original = success_agents_original + 1\n",
    "        if successes_reversed:\n",
    "            success_agents_reversed = success_agents_reversed + 1\n",
    "    average_success_percentage_original = success_agents_original/num_agents\n",
    "    average_success_percentage_reversed = success_agents_reversed/num_agents\n",
    "    print('The successfully navigated agents in the original maze:', success_agents_original)\n",
    "    print(f\"Average success percentage across {num_agents} agents in the original maze: {average_success_percentage_original*100:.2f}%\")\n",
    "    print('The successfully navigated agents in the reversed maze:', success_agents_reversed)\n",
    "    print(f\"Average success percentage across {num_agents} agents in the reversed maze: {average_success_percentage_reversed*100:.2f}%\")"
   ],
   "metadata": {
    "collapsed": false
   }
  },
  {
   "cell_type": "code",
   "execution_count": 29,
   "outputs": [
    {
     "name": "stdout",
     "output_type": "stream",
     "text": [
      "Training Trials for each agent: 1000\n",
      "The successfully navigated agents in the original maze: 10\n",
      "Average success percentage across 10 agents in the original maze: 100.00%\n",
      "The successfully navigated agents in the reversed maze: 0\n",
      "Average success percentage across 10 agents in the reversed maze: 0.00%\n"
     ]
    }
   ],
   "source": [
    "experiment(maze_game, reversed_maze)"
   ],
   "metadata": {
    "collapsed": false
   }
  }
 ],
 "metadata": {
  "kernelspec": {
   "display_name": "Python 3",
   "language": "python",
   "name": "python3"
  },
  "language_info": {
   "codemirror_mode": {
    "name": "ipython",
    "version": 2
   },
   "file_extension": ".py",
   "mimetype": "text/x-python",
   "name": "python",
   "nbconvert_exporter": "python",
   "pygments_lexer": "ipython2",
   "version": "2.7.6"
  }
 },
 "nbformat": 4,
 "nbformat_minor": 0
}
